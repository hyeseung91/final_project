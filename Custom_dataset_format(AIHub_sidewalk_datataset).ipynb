{
  "nbformat": 4,
  "nbformat_minor": 0,
  "metadata": {
    "kernelspec": {
      "display_name": "Python 3",
      "language": "python",
      "name": "python3"
    },
    "language_info": {
      "codemirror_mode": {
        "name": "ipython",
        "version": 3
      },
      "file_extension": ".py",
      "mimetype": "text/x-python",
      "name": "python",
      "nbconvert_exporter": "python",
      "pygments_lexer": "ipython3",
      "version": "3.6.9"
    },
    "colab": {
      "name": "Custom_dataset_format(AIHub_sidewalk_datataset)",
      "provenance": [],
      "collapsed_sections": [],
      "toc_visible": true,
      "include_colab_link": true
    }
  },
  "cells": [
    {
      "cell_type": "markdown",
      "metadata": {
        "id": "view-in-github",
        "colab_type": "text"
      },
      "source": [
        "<a href=\"https://colab.research.google.com/github/yeonjoo7/final_project/blob/main/Custom_dataset_format(AIHub_sidewalk_datataset).ipynb\" target=\"_parent\"><img src=\"https://colab.research.google.com/assets/colab-badge.svg\" alt=\"Open In Colab\"/></a>"
      ]
    },
    {
      "cell_type": "markdown",
      "metadata": {
        "id": "QMoBh9fjLpKh"
      },
      "source": [
        "# 1. DATASET 구성\r\n",
        "사용하려는 라이브러리에 따라 맞는 dataset format을 변환하기 위해 정리한 내용"
      ]
    },
    {
      "cell_type": "code",
      "metadata": {
        "id": "duFs2c46LpKj",
        "colab": {
          "base_uri": "https://localhost:8080/"
        },
        "outputId": "58714224-9270-492f-a5ad-450196209150"
      },
      "source": [
        "import torch, torchvision\n",
        "import numpy as np\n",
        "import pandas as pd\n",
        "\n",
        "import cv2\n",
        "import json\n",
        "import itertools\n",
        "import os\n",
        "from glob import glob\n",
        "import xml.etree.ElementTree as ET\n",
        "\n",
        "print(torch.__version__)"
      ],
      "execution_count": null,
      "outputs": [
        {
          "output_type": "stream",
          "text": [
            "1.7.0+cu101\n"
          ],
          "name": "stdout"
        }
      ]
    },
    {
      "cell_type": "code",
      "metadata": {
        "id": "e5akRQ9-rmd4",
        "colab": {
          "base_uri": "https://localhost:8080/"
        },
        "outputId": "c7f609ee-46c0-4d5c-f31a-7142d94e3ef9"
      },
      "source": [
        "from google.colab import drive\n",
        "drive.mount('/content/drive', force_remount=True)"
      ],
      "execution_count": null,
      "outputs": [
        {
          "output_type": "stream",
          "text": [
            "Mounted at /content/drive\n"
          ],
          "name": "stdout"
        }
      ]
    },
    {
      "cell_type": "markdown",
      "metadata": {
        "id": "VwpnhSU86Dsu"
      },
      "source": [
        "## xml파일에서 label, Bounding Box 좌표 추출하는 함수"
      ]
    },
    {
      "cell_type": "code",
      "metadata": {
        "id": "O5VHgE37r5gR",
        "colab": {
          "base_uri": "https://localhost:8080/",
          "height": 375
        },
        "outputId": "0d5e4e63-16c3-4af5-9b49-83c467853f4e"
      },
      "source": [
        "# 정은님 함수\r\n",
        "\r\n",
        "path = '/content/drive/MyDrive/sidewalk_bbox/Bbox_1/Bbox_0001'\r\n",
        "\r\n",
        "def get_box_df(filename, xmlname):\r\n",
        "  xml_data = open((os.path.join(path,xmlname)), 'r').read()\r\n",
        "  root = ET.XML(xml_data)\r\n",
        "  df = pd.DataFrame(columns=('label','occluded', 'xtl', 'ytl', 'xbr', 'ybr', 'z_order'))\r\n",
        "  for image in root.getchildren():\r\n",
        "    if image.attrib.get('name') == filename :\r\n",
        "      print(filename)\r\n",
        "      dic = {'label':[],'occluded':[], 'xtl':[], 'ytl':[], 'xbr':[], 'ybr':[], 'z_order':[]}\r\n",
        "      for i in range(0,len(image.getchildren())):\r\n",
        "          obj = image.getchildren()[i]\r\n",
        "          for col in ['label','occluded', 'xtl', 'ytl', 'xbr', 'ybr', 'z_order']:\r\n",
        "            dic[col].append(obj.attrib[col])\r\n",
        "      for col in ['label','occluded', 'xtl', 'ytl', 'xbr', 'ybr', 'z_order']:\r\n",
        "        df[col] = dic[col]\r\n",
        "  return df\r\n",
        "data = get_box_df('MP_SEL_000001.jpg','0617_01.xml')\r\n",
        "data"
      ],
      "execution_count": null,
      "outputs": [
        {
          "output_type": "stream",
          "text": [
            "MP_SEL_000001.jpg\n"
          ],
          "name": "stdout"
        },
        {
          "output_type": "execute_result",
          "data": {
            "text/html": [
              "<div>\n",
              "<style scoped>\n",
              "    .dataframe tbody tr th:only-of-type {\n",
              "        vertical-align: middle;\n",
              "    }\n",
              "\n",
              "    .dataframe tbody tr th {\n",
              "        vertical-align: top;\n",
              "    }\n",
              "\n",
              "    .dataframe thead th {\n",
              "        text-align: right;\n",
              "    }\n",
              "</style>\n",
              "<table border=\"1\" class=\"dataframe\">\n",
              "  <thead>\n",
              "    <tr style=\"text-align: right;\">\n",
              "      <th></th>\n",
              "      <th>label</th>\n",
              "      <th>occluded</th>\n",
              "      <th>xtl</th>\n",
              "      <th>ytl</th>\n",
              "      <th>xbr</th>\n",
              "      <th>ybr</th>\n",
              "      <th>z_order</th>\n",
              "    </tr>\n",
              "  </thead>\n",
              "  <tbody>\n",
              "    <tr>\n",
              "      <th>0</th>\n",
              "      <td>tree_trunk</td>\n",
              "      <td>0</td>\n",
              "      <td>1272.39</td>\n",
              "      <td>451.90</td>\n",
              "      <td>1331.40</td>\n",
              "      <td>670.79</td>\n",
              "      <td>0</td>\n",
              "    </tr>\n",
              "    <tr>\n",
              "      <th>1</th>\n",
              "      <td>movable_signage</td>\n",
              "      <td>1</td>\n",
              "      <td>1082.78</td>\n",
              "      <td>356.68</td>\n",
              "      <td>1147.89</td>\n",
              "      <td>491.46</td>\n",
              "      <td>0</td>\n",
              "    </tr>\n",
              "    <tr>\n",
              "      <th>2</th>\n",
              "      <td>tree_trunk</td>\n",
              "      <td>0</td>\n",
              "      <td>1157.03</td>\n",
              "      <td>277.90</td>\n",
              "      <td>1210.30</td>\n",
              "      <td>565.71</td>\n",
              "      <td>0</td>\n",
              "    </tr>\n",
              "    <tr>\n",
              "      <th>3</th>\n",
              "      <td>tree_trunk</td>\n",
              "      <td>0</td>\n",
              "      <td>1094.21</td>\n",
              "      <td>331.56</td>\n",
              "      <td>1131.90</td>\n",
              "      <td>493.75</td>\n",
              "      <td>0</td>\n",
              "    </tr>\n",
              "    <tr>\n",
              "      <th>4</th>\n",
              "      <td>car</td>\n",
              "      <td>0</td>\n",
              "      <td>1672.90</td>\n",
              "      <td>382.30</td>\n",
              "      <td>1728.00</td>\n",
              "      <td>416.00</td>\n",
              "      <td>0</td>\n",
              "    </tr>\n",
              "    <tr>\n",
              "      <th>5</th>\n",
              "      <td>traffic_sign</td>\n",
              "      <td>0</td>\n",
              "      <td>1851.90</td>\n",
              "      <td>346.60</td>\n",
              "      <td>1886.20</td>\n",
              "      <td>380.31</td>\n",
              "      <td>0</td>\n",
              "    </tr>\n",
              "    <tr>\n",
              "      <th>6</th>\n",
              "      <td>car</td>\n",
              "      <td>1</td>\n",
              "      <td>1768.60</td>\n",
              "      <td>423.00</td>\n",
              "      <td>1914.00</td>\n",
              "      <td>499.00</td>\n",
              "      <td>0</td>\n",
              "    </tr>\n",
              "    <tr>\n",
              "      <th>7</th>\n",
              "      <td>car</td>\n",
              "      <td>1</td>\n",
              "      <td>1634.90</td>\n",
              "      <td>499.70</td>\n",
              "      <td>1920.00</td>\n",
              "      <td>857.50</td>\n",
              "      <td>0</td>\n",
              "    </tr>\n",
              "    <tr>\n",
              "      <th>8</th>\n",
              "      <td>car</td>\n",
              "      <td>1</td>\n",
              "      <td>1692.20</td>\n",
              "      <td>411.90</td>\n",
              "      <td>1814.00</td>\n",
              "      <td>478.00</td>\n",
              "      <td>0</td>\n",
              "    </tr>\n",
              "    <tr>\n",
              "      <th>9</th>\n",
              "      <td>movable_signage</td>\n",
              "      <td>1</td>\n",
              "      <td>1206.14</td>\n",
              "      <td>303.00</td>\n",
              "      <td>1289.52</td>\n",
              "      <td>542.86</td>\n",
              "      <td>0</td>\n",
              "    </tr>\n",
              "  </tbody>\n",
              "</table>\n",
              "</div>"
            ],
            "text/plain": [
              "             label occluded      xtl     ytl      xbr     ybr z_order\n",
              "0       tree_trunk        0  1272.39  451.90  1331.40  670.79       0\n",
              "1  movable_signage        1  1082.78  356.68  1147.89  491.46       0\n",
              "2       tree_trunk        0  1157.03  277.90  1210.30  565.71       0\n",
              "3       tree_trunk        0  1094.21  331.56  1131.90  493.75       0\n",
              "4              car        0  1672.90  382.30  1728.00  416.00       0\n",
              "5     traffic_sign        0  1851.90  346.60  1886.20  380.31       0\n",
              "6              car        1  1768.60  423.00  1914.00  499.00       0\n",
              "7              car        1  1634.90  499.70  1920.00  857.50       0\n",
              "8              car        1  1692.20  411.90  1814.00  478.00       0\n",
              "9  movable_signage        1  1206.14  303.00  1289.52  542.86       0"
            ]
          },
          "metadata": {
            "tags": []
          },
          "execution_count": 30
        }
      ]
    },
    {
      "cell_type": "markdown",
      "metadata": {
        "id": "mfCAyJ8xvs6u"
      },
      "source": [
        "## xml 바로 json으로 변환\r\n",
        "(단순 변환이기때문에 AI hub에서 받은 dataset xml로는 COCO json변환이 안됨)"
      ]
    },
    {
      "cell_type": "code",
      "metadata": {
        "colab": {
          "base_uri": "https://localhost:8080/"
        },
        "id": "9kpkkZ2vU8cF",
        "outputId": "f10956f8-c18c-423c-c7e6-64f617be315b"
      },
      "source": [
        "!pip install xmltodict"
      ],
      "execution_count": null,
      "outputs": [
        {
          "output_type": "stream",
          "text": [
            "Collecting xmltodict\n",
            "  Downloading https://files.pythonhosted.org/packages/28/fd/30d5c1d3ac29ce229f6bdc40bbc20b28f716e8b363140c26eff19122d8a5/xmltodict-0.12.0-py2.py3-none-any.whl\n",
            "Installing collected packages: xmltodict\n",
            "Successfully installed xmltodict-0.12.0\n"
          ],
          "name": "stdout"
        }
      ]
    },
    {
      "cell_type": "code",
      "metadata": {
        "id": "UI9f7wcfVADR"
      },
      "source": [
        "import xmltodict\r\n",
        "import json\r\n",
        "\r\n",
        "xmlname = 'Bbox_0131/0702_08.xml'\r\n",
        "xml_data = open((os.path.join(path3,xmlname)), 'r').read()\r\n",
        "\r\n",
        "# xmltodict.parse() 함수는 OrderedDict 으로 return\r\n",
        "\r\n",
        "result = xmltodict.parse(xml_data)\r\n",
        "\r\n",
        "dictionary = json.loads(json.dumps(result))\r\n",
        "\r\n",
        "dictionary\r\n",
        "#  아래와 같은 형식\r\n",
        "\r\n",
        "# {'annotations': {'image': [{'@height': '1080',\r\n",
        "#     '@id': '0',\r\n",
        "#     '@name': 'MP_SEL_018001.jpg',\r\n",
        "#     '@width': '1920',\r\n",
        "#     'box': [{'@label': 'car',\r\n",
        "#       '@occluded': '1',\r\n",
        "#       '@xbr': '1920.00',\r\n",
        "#       '@xtl': '1573.20',\r\n",
        "#       '@ybr': '615.00',\r\n",
        "#       '@ytl': '373.00',\r\n",
        "#       '@z_order': '0'},\r\n",
        "#      {'@label': 'person',\r\n",
        "#       '@occluded': '1',\r\n",
        "#       '@xbr': '701.30',\r\n",
        "#       '@xtl': '575.63',\r\n",
        "#       '@ybr': '641.10',\r\n",
        "#       '@ytl': '458.73',\r\n",
        "#       '@z_order': '1'}, ...\r\n",
        "#       'meta': {'dumped': '2019-11-29 04:03:25.280548+03:00',\r\n",
        "#    'task': {'bugtracker': None,\r\n",
        "#     'created': '2019-11-22 06:36:26.055375+03:00',\r\n",
        "#     'flipped': 'False',\r\n",
        "#     'frame_filter': '0',\r\n",
        "#     'id': '5070',\r\n",
        "#     'labels': {'label': [{'attributes': None, 'name': 'wheelchair'},\r\n",
        "#       {'attributes': None, 'name': 'truck'},\r\n",
        "#       {'attributes': None, 'name': 'tree_trunk'},\r\n",
        "#       {'attributes': None, 'name': 'traffic_sign'},\r\n",
        "#       {'attributes': None, 'name': 'traffic_light'},\r\n",
        "#       {'attributes': None, 'name': 'table'},\r\n",
        "#       {'attributes': None, 'name': 'stroller'},\r\n",
        "#       {'attributes': None, 'name': 'stop'},\r\n",
        "#       {'attributes': None, 'name': 'scooter'},\r\n",
        "#       {'attributes': None, 'name': 'potted_plant'},\r\n",
        "#       {'attributes': None, 'name': 'pole'},\r\n",
        "#       {'attributes': None, 'name': 'person'},\r\n",
        "#       {'attributes': None, 'name': 'parking_meter'},\r\n",
        "#       {'attributes': None, 'name': 'movable_signage'},\r\n",
        "#       {'attributes': None, 'name': 'motorcycle'},\r\n",
        "#       {'attributes': None, 'name': 'kiosk'},\r\n",
        "#       {'attributes': None, 'name': 'fire_hydrant'},\r\n",
        "#       {'attributes': None, 'name': 'dog'},\r\n",
        "#       {'attributes': None, 'name': 'chair'},\r\n",
        "#       {'attributes': None, 'name': 'cat'},\r\n",
        "#       {'attributes': None, 'name': 'carrier'},\r\n",
        "#       {'attributes': None, 'name': 'car'},\r\n",
        "#       {'attributes': None, 'name': 'bus'},\r\n",
        "#       {'attributes': None, 'name': 'bollard'},\r\n",
        "#       {'attributes': None, 'name': 'bicycle'},\r\n",
        "#       {'attributes': None, 'name': 'bench'},\r\n",
        "#       {'attributes': None, 'name': 'barricade'}]},\r\n",
        "#     'mode': 'annotation',\r\n",
        "#     'name': '0702_08(최종검수)',\r\n",
        "#     'overlap': '0',\r\n",
        "#     'owner': {'email': 'aiadmin@testworks.co.kr', 'username': 'aiadmin'},\r\n",
        "#     'segments': {'segment': {'id': '4868',\r\n",
        "#       'start': '0',\r\n",
        "#       'stop': '285',\r\n",
        "#       'url': 'http://112.169.146.227:8080/?id=4868'}},\r\n",
        "#     'size': '286',\r\n",
        "#     'start_frame': '0',\r\n",
        "#     'stop_frame': '0',\r\n",
        "#     'updated': '2019-11-22 11:29:05.790985+03:00'}},\r\n",
        "#   'version': '1.1'}}"
      ],
      "execution_count": null,
      "outputs": []
    },
    {
      "cell_type": "markdown",
      "metadata": {
        "id": "sok3-BdaNwLK"
      },
      "source": [
        "## xml 파일을 VOC xml 형식으로 변환"
      ]
    },
    {
      "cell_type": "code",
      "metadata": {
        "id": "e-7cu48WrMTj"
      },
      "source": [
        "# 참고한 코드 출처(voc xml 생성): https://ballentain.tistory.com/8\r\n",
        "\r\n",
        "from xml.etree.ElementTree import Element, SubElement, ElementTree\r\n",
        "\r\n",
        "img_path = '/content/drive/MyDrive/Bbox_0002'\r\n",
        "xml_path = '/content/drive/MyDrive/Bbox_0002/original_xml'\r\n",
        "\r\n",
        "def new_voc_xml(filename, xmlname):\r\n",
        "\r\n",
        "  # xml data로 df 만들기\r\n",
        "  xml_data = open((os.path.join(xml_path,xmlname)), 'r').read()\r\n",
        "  root = ET.XML(xml_data)\r\n",
        "  df = pd.DataFrame(columns=('label','occluded', 'xtl', 'ytl', 'xbr', 'ybr', 'z_order'))\r\n",
        "  for image in root.getchildren():\r\n",
        "    if image.attrib.get('name') == filename :\r\n",
        "      print(filename)\r\n",
        "      dic = {'label':[],'occluded':[], 'xtl':[], 'ytl':[], 'xbr':[], 'ybr':[], 'z_order':[]}\r\n",
        "      for i in range(0,len(image.getchildren())):\r\n",
        "          obj = image.getchildren()[i]\r\n",
        "          for col in ['label','occluded', 'xtl', 'ytl', 'xbr', 'ybr', 'z_order']:\r\n",
        "            dic[col].append(obj.attrib[col])\r\n",
        "      for col in ['label','occluded', 'xtl', 'ytl', 'xbr', 'ybr', 'z_order']:\r\n",
        "        df[col] = dic[col]\r\n",
        "\r\n",
        "  # 위의 df를 활용하여 새로운 VOC xml format 문서 만들기 (xml은 전부 str타입으로 맞춰줘야함)\r\n",
        "  width = 1920\r\n",
        "  height = 1080\r\n",
        "  root = Element('annotation')\r\n",
        "  SubElement(root, 'folder').text = 'ai_hub_images'\r\n",
        "  SubElement(root, 'filename').text = filename\r\n",
        "  source = SubElement(root, 'source')\r\n",
        "  SubElement(source, 'database').text = 'Unknown'   # Pascal VOC dataset내 위치\r\n",
        "\r\n",
        "  size = SubElement(root, 'size')\r\n",
        "  SubElement(size, 'width').text = str(width)\r\n",
        "  SubElement(size, 'height').text = str(height)\r\n",
        "  SubElement(size, 'depth').text = '3'            # 이미지의 채널 수\r\n",
        "\r\n",
        "  SubElement(root, 'segmented').text = '0'      # Class or Object segmentation을 위한 정보\r\n",
        "\r\n",
        "  for row in df.itertuples():\r\n",
        "    print(row)\r\n",
        "    label = row[1]\r\n",
        "    print(label)\r\n",
        "    obj = SubElement(root, 'object')\r\n",
        "    SubElement(obj, 'name').text = str(label)\r\n",
        "    SubElement(obj, 'pose').text = 'Unspecified'  # 이미지 내 객체의 위치\r\n",
        "    SubElement(obj, 'truncated').text = str(row[2]) # 이미지 내 객체의 잘림 여부\r\n",
        "    SubElement(obj, 'difficult').text = '0'       # 이미지 내 객체의 식별 가능 여부\r\n",
        "    bbox = SubElement(obj, 'bndbox')\r\n",
        "    print(row[3], row[6])\r\n",
        "    SubElement(bbox, 'xmin').text = str(row[3])\r\n",
        "    SubElement(bbox, 'ymin').text = str(row[4])\r\n",
        "    SubElement(bbox, 'xmax').text = str(row[5])\r\n",
        "    SubElement(bbox, 'ymax').text = str(row[6])                                                      \r\n",
        "\r\n",
        "  tree = ElementTree(root)\r\n",
        "  print(tree)\r\n",
        "  tree.write('/content/drive/MyDrive/Bbox_0002/'+filename[:-4]+'.xml')\r\n",
        "\r\n",
        "# 소폴더 하나로 테스트\r\n",
        "temp = []\r\n",
        "for file_names in os.walk(img_path):\r\n",
        "  temp.append(file_names)\r\n",
        "file_names = temp[0][2]\r\n",
        "img_files = []\r\n",
        "for file_name in file_names:\r\n",
        "    if file_name.endswith('.jpg'):\r\n",
        "      img_files.append(file_name)\r\n",
        "\r\n",
        "# 구글 코랩에 저장하는 코드\r\n",
        "# with open(path.join(notebooks_base_dir, \"file.txt\"), \"w\") as f:\r\n",
        "#     f.write(\"contents\")"
      ],
      "execution_count": null,
      "outputs": []
    },
    {
      "cell_type": "code",
      "metadata": {
        "id": "CGvIQQDHaX9w"
      },
      "source": [
        "print(img_files)\r\n",
        "\r\n",
        "for img in img_files:\r\n",
        "  new_voc_xml(img,'0617_02.xml')"
      ],
      "execution_count": null,
      "outputs": []
    },
    {
      "cell_type": "code",
      "metadata": {
        "colab": {
          "base_uri": "https://localhost:8080/"
        },
        "id": "caQnint_c1Yj",
        "outputId": "1f101c9b-477f-4910-b54f-a985015f59d5"
      },
      "source": [
        "cnt_img = []\r\n",
        "cnt_xml = []\r\n",
        "for dir_path, dir_names, file_names in os.walk(path):\r\n",
        "  for file_name in file_names:\r\n",
        "    if file_name.endswith('.jpg'):\r\n",
        "      cnt_img.append(file_name)\r\n",
        "    elif file_name.endswith('.xml'):\r\n",
        "      cnt_xml.append(file_name)\r\n",
        "\r\n",
        "print(len(cnt_img))\r\n",
        "print(len(cnt_xml))\r\n",
        "if '0617_02.xml' in cnt_xml:\r\n",
        "  print('Success!')"
      ],
      "execution_count": null,
      "outputs": [
        {
          "output_type": "stream",
          "text": [
            "195\n",
            "196\n",
            "Success!\n"
          ],
          "name": "stdout"
        }
      ]
    },
    {
      "cell_type": "markdown",
      "metadata": {
        "id": "PXDOsgGJ3obC"
      },
      "source": [
        "## 기존 xml파일로 새로운 YOLOv3 Darknet txt 생성"
      ]
    },
    {
      "cell_type": "code",
      "metadata": {
        "id": "vN6R_Bjg3YaR"
      },
      "source": [
        "# 출처: http://daddynkidsmakers.blogspot.com/2020/05/yolo.html\r\n",
        "\r\n",
        "import os\r\n",
        "import glob\r\n",
        "from os import listdir, getcwd\r\n",
        "from tokenize import tokenize, untokenize, NUMBER, STRING, NAME, OP\r\n",
        "\r\n",
        "# Modify the below parametercategoryCount = 2names = ['con_eq', 'worker']\r\n",
        "width = 500height = 500\r\n",
        "# Programroot = ''def createFolders(root):\r\n",
        "    try:\r\n",
        "        os.mkdir(root)\r\n",
        "        os.mkdir(root + 'images')\r\n",
        "        os.mkdir(root + 'labels')\r\n",
        "    except:\r\n",
        "        return    return\r\n",
        "def saveNames(root, file):\r\n",
        "    try:\r\n",
        "        fileName = open(root + file, \"w\")\r\n",
        "        for index in range(categoryCount):\r\n",
        "            fileName.write(names[index] + '\\n')\r\n",
        "    except:\r\n",
        "        return    return\r\n",
        "def saveLabel(folder, filename, imageName, category, object, w, h, BBoxList):\r\n",
        "    try:\r\n",
        "        file = open(folder + filename, \"w\")\r\n",
        "\r\n",
        "        for BBox in BBoxList:  # type: object            objWidth = float(BBox[2] - BBox[0]) / float(w)\r\n",
        "            objHeight = float(BBox[3] - BBox[1]) / float(h)\r\n",
        "            centerX = objWidth / 2 + float(BBox[0]) / float(w)\r\n",
        "            centerY = objHeight / 2 + float(BBox[1]) / float(h)\r\n",
        "\r\n",
        "            file.write(str(category) + ' ')\r\n",
        "            file.write('{:.6f}'.format(centerX) + ' ')\r\n",
        "            file.write('{:.6f}'.format(centerY) + ' ')\r\n",
        "            file.write('{:.6f}'.format(objWidth) + ' ')\r\n",
        "            file.write('{:.6f}'.format(objHeight) + '\\n')\r\n",
        "    except:\r\n",
        "        return    return\r\n",
        "def convertBBoxToDarknet(root, labelDir, category, w, h):\r\n",
        "    labelList = glob.glob(os.path.join(labelDir, '*.*'))\r\n",
        "    for filename in labelList:\r\n",
        "        BBoxList = []\r\n",
        "        try:\r\n",
        "            file = open(filename, \"r\")\r\n",
        "            count = file.readline()\r\n",
        "            count = count.rstrip('\\n')\r\n",
        "            num = int(count)\r\n",
        "            for line in range(num):\r\n",
        "                BBox = file.readline()\r\n",
        "                BB = BBox.split()\r\n",
        "                points = []\r\n",
        "                for pt in BB:\r\n",
        "                    points.append(int(pt))\r\n",
        "                BBoxList.append(points)\r\n",
        "        except:\r\n",
        "            continue\r\n",
        "        object = names[category]\r\n",
        "\r\n",
        "        name = os.path.basename(filename)\r\n",
        "        name, extension = os.path.splitext(name)\r\n",
        "        labelFile = name + '.txt'        saveLabel(root + 'labels/', labelFile, name, category, object, w, h, BBoxList)\r\n",
        "    return\r\n",
        "def saveTrainTestsets(root, train, test, ratio):\r\n",
        "    try:\r\n",
        "        fileTest = open(root + train, \"w\")\r\n",
        "        fileTrain = open(root + test, \"w\")\r\n",
        "\r\n",
        "        imageDir = os.path.join(root + 'images/')\r\n",
        "        imageList = glob.glob(os.path.join(imageDir, '*.jpg'))\r\n",
        "\r\n",
        "        labelDir = os.path.join(root + 'labels/')\r\n",
        "        labelList = glob.glob(os.path.join(labelDir, '*.*'))\r\n",
        "\r\n",
        "        no = 0        count = len(labelList)\r\n",
        "        trainCount = int(float(count) * ratio)\r\n",
        "        for file in imageList:\r\n",
        "\r\n",
        "            name = os.path.basename(file)\r\n",
        "            name, extension = os.path.splitext(name)\r\n",
        "            labelFile = root + 'labels/' + name + '.txt'\r\n",
        "            if os.path.isfile(labelFile) == False:\r\n",
        "                continue\r\n",
        "            if no < trainCount:\r\n",
        "                fileTest.write(file + '\\n')\r\n",
        "            else:\r\n",
        "                fileTrain.write(file + '\\n')\r\n",
        "            no = no + 1    except:\r\n",
        "        return    return\r\n",
        "def saveYOLOdatafile(root):\r\n",
        "    try:\r\n",
        "        file = open(root + 'detector.data', \"w\")\r\n",
        "\r\n",
        "        file.write('classes=' + str(categoryCount) + '\\n')\r\n",
        "        file.write('train=custom_data/train.txt' + '\\n')\r\n",
        "        file.write('valid=custom_data/test.txt' + '\\n')\r\n",
        "        file.write('names=custom_data/custom.names' + '\\n')\r\n",
        "        file.write('backup=backup/' + '\\n')\r\n",
        "    except:\r\n",
        "        return    return\r\n",
        "wd = getcwd()\r\n",
        "root = wd + '/custom_data/'createFolders(root)\r\n",
        "\r\n",
        "saveNames(root, \"custom.names\")\r\n",
        "\r\n",
        "for index in range(categoryCount):\r\n",
        "    labelDir = getcwd() + '/'    labelDir = labelDir + os.path.join(r'BBox/Labels/', '%03d' % (index + 1))\r\n",
        "    convertBBoxToDarknet(root, labelDir, index, width, height)\r\n",
        "\r\n",
        "saveTrainTestsets(root, 'train.txt', 'test.txt', 0.8)\r\n",
        "\r\n",
        "saveYOLOdatafile(root)"
      ],
      "execution_count": null,
      "outputs": []
    },
    {
      "cell_type": "markdown",
      "metadata": {
        "id": "psB7tQldk5_2"
      },
      "source": [
        "## VOC xml to COCO json"
      ]
    },
    {
      "cell_type": "code",
      "metadata": {
        "id": "xki93Rzak_TZ"
      },
      "source": [
        "# 출처: https://github.com/soumenpramanik/Convert-Pascal-VOC-to-COCO/blob/master/convertVOC2COCO.py\r\n",
        "\r\n",
        "import os\r\n",
        "import xml.etree.ElementTree as ET\r\n",
        "import xmltodict\r\n",
        "import json\r\n",
        "from xml.dom import minidom\r\n",
        "from collections import OrderedDict\r\n",
        "\r\n",
        "\r\n",
        "#attrDict = {\"images\":[{\"file_name\":[],\"height\":[], \"width\":[],\"id\":[]}], \"type\":\"instances\", \"annotations\":[], \"categories\":[]}\r\n",
        "\r\n",
        "#xmlfile = \"000023.xml\"\r\n",
        "\r\n",
        "\r\n",
        "def generateVOC2Json(rootDir,xmlFiles):\r\n",
        "\tattrDict = dict()\r\n",
        "\t#images = dict()\r\n",
        "\t#images1 = list()\r\n",
        "\tattrDict[\"categories\"]=[{\"supercategory\":\"none\",\"id\":1,\"name\":\"header\"},\r\n",
        "\t\t\t        {\"supercategory\":\"none\",\"id\":2,\"name\":\"row\"},\r\n",
        "\t\t\t        {\"supercategory\":\"none\",\"id\":3,\"name\":\"logo\"},\r\n",
        "\t\t\t        {\"supercategory\":\"none\",\"id\":4,\"name\":\"item_name\"},\r\n",
        "\t\t\t\t{\"supercategory\":\"none\",\"id\":5,\"name\":\"item_desc\"},\r\n",
        "\t\t\t\t{\"supercategory\":\"none\",\"id\":6,\"name\":\"price\"},\r\n",
        "\t\t\t\t{\"supercategory\":\"none\",\"id\":7,\"name\":\"total_price_text\"},\r\n",
        "\t\t\t\t{\"supercategory\":\"none\",\"id\":8,\"name\":\"total_price\"},\r\n",
        "\t\t\t\t{\"supercategory\":\"none\",\"id\":9,\"name\":\"footer\"}\r\n",
        "\t\t\t      ]\r\n",
        "\timages = list()\r\n",
        "\tannotations = list()\r\n",
        "\tfor root, dirs, files in os.walk(rootDir):\r\n",
        "\t\timage_id = 0\r\n",
        "\t\tfor file in xmlFiles:\r\n",
        "\t\t\timage_id = image_id + 1\r\n",
        "\t\t\tif file in files:\r\n",
        "\t\t\t\t\r\n",
        "\t\t\t\t#image_id = image_id + 1\r\n",
        "\t\t\t\tannotation_path = os.path.abspath(os.path.join(root, file))\r\n",
        "\t\t\t\t\r\n",
        "\t\t\t\t#tree = ET.parse(annotation_path)#.getroot()\r\n",
        "\t\t\t\timage = dict()\r\n",
        "\t\t\t\t#keyList = list()\r\n",
        "\t\t\t\tdoc = xmltodict.parse(open(annotation_path).read())\r\n",
        "\t\t\t\t#print doc['annotation']['filename']\r\n",
        "\t\t\t\timage['file_name'] = str(doc['annotation']['filename'])\r\n",
        "\t\t\t\t#keyList.append(\"file_name\")\r\n",
        "\t\t\t\timage['height'] = int(doc['annotation']['size']['height'])\r\n",
        "\t\t\t\t#keyList.append(\"height\")\r\n",
        "\t\t\t\timage['width'] = int(doc['annotation']['size']['width'])\r\n",
        "\t\t\t\t#keyList.append(\"width\")\r\n",
        "\r\n",
        "\t\t\t\t#image['id'] = str(doc['annotation']['filename']).split('.jpg')[0]\r\n",
        "\t\t\t\timage['id'] = image_id\r\n",
        "\t\t\t\tprint \"File Name: {} and image_id {}\".format(file, image_id)\r\n",
        "\t\t\t\timages.append(image)\r\n",
        "\t\t\t\t# keyList.append(\"id\")\r\n",
        "\t\t\t\t# for k in keyList:\r\n",
        "\t\t\t\t# \timages1.append(images[k])\r\n",
        "\t\t\t\t# images2 = dict(zip(keyList, images1))\r\n",
        "\t\t\t\t# print images2\r\n",
        "\t\t\t\t#print images\r\n",
        "\r\n",
        "\t\t\t\t#attrDict[\"images\"] = images\r\n",
        "\r\n",
        "\t\t\t\t#print attrDict\r\n",
        "\t\t\t\t#annotation = dict()\r\n",
        "\t\t\t\tid1 = 1\r\n",
        "\t\t\t\tif 'object' in doc['annotation']:\r\n",
        "\t\t\t\t\tfor obj in doc['annotation']['object']:\r\n",
        "\t\t\t\t\t\tfor value in attrDict[\"categories\"]:\r\n",
        "\t\t\t\t\t\t\tannotation = dict()\r\n",
        "\t\t\t\t\t\t\t#if str(obj['name']) in value[\"name\"]:\r\n",
        "\t\t\t\t\t\t\tif str(obj['name']) == value[\"name\"]:\r\n",
        "\t\t\t\t\t\t\t\t#print str(obj['name'])\r\n",
        "\t\t\t\t\t\t\t\t#annotation[\"segmentation\"] = []\r\n",
        "\t\t\t\t\t\t\t\tannotation[\"iscrowd\"] = 0\r\n",
        "\t\t\t\t\t\t\t\t#annotation[\"image_id\"] = str(doc['annotation']['filename']).split('.jpg')[0] #attrDict[\"images\"][\"id\"]\r\n",
        "\t\t\t\t\t\t\t\tannotation[\"image_id\"] = image_id\r\n",
        "\t\t\t\t\t\t\t\tx1 = int(obj[\"bndbox\"][\"xmin\"])  - 1\r\n",
        "\t\t\t\t\t\t\t\ty1 = int(obj[\"bndbox\"][\"ymin\"]) - 1\r\n",
        "\t\t\t\t\t\t\t\tx2 = int(obj[\"bndbox\"][\"xmax\"]) - x1\r\n",
        "\t\t\t\t\t\t\t\ty2 = int(obj[\"bndbox\"][\"ymax\"]) - y1\r\n",
        "\t\t\t\t\t\t\t\tannotation[\"bbox\"] = [x1, y1, x2, y2]\r\n",
        "\t\t\t\t\t\t\t\tannotation[\"area\"] = float(x2 * y2)\r\n",
        "\t\t\t\t\t\t\t\tannotation[\"category_id\"] = value[\"id\"]\r\n",
        "\t\t\t\t\t\t\t\tannotation[\"ignore\"] = 0\r\n",
        "\t\t\t\t\t\t\t\tannotation[\"id\"] = id1\r\n",
        "\t\t\t\t\t\t\t\tannotation[\"segmentation\"] = [[x1,y1,x1,(y1 + y2), (x1 + x2), (y1 + y2), (x1 + x2), y1]]\r\n",
        "\t\t\t\t\t\t\t\tid1 +=1\r\n",
        "\r\n",
        "\t\t\t\t\t\t\t\tannotations.append(annotation)\r\n",
        "\t\t\t\t\r\n",
        "\t\t\t\telse:\r\n",
        "\t\t\t\t\tprint \"File: {} doesn't have any object\".format(file)\r\n",
        "\t\t\t\t#image_id = image_id + 1\r\n",
        "\t\t\t\t\r\n",
        "\t\t\telse:\r\n",
        "\t\t\t\tprint \"File: {} not found\".format(file)\r\n",
        "\t\t\t\r\n",
        "\r\n",
        "\tattrDict[\"images\"] = images\t\r\n",
        "\tattrDict[\"annotations\"] = annotations\r\n",
        "\tattrDict[\"type\"] = \"instances\"\r\n",
        "\r\n",
        "\t#print attrDict\r\n",
        "\tjsonString = json.dumps(attrDict)\r\n",
        "\twith open(\"receipts_valid.json\", \"w\") as f:\r\n",
        "\t\tf.write(jsonString)\r\n",
        "\r\n",
        "# rootDir = \"/netscratch/pramanik/OBJECT_DETECTION/detectron/lib/datasets/data/Receipts/Annotations\"\r\n",
        "# for root, dirs, files in os.walk(rootDir):\r\n",
        "# \tfor file in files:\r\n",
        "# \t\tif file.endswith(\".xml\"):\r\n",
        "# \t\t\tannotation_path = str(os.path.abspath(os.path.join(root,file)))\r\n",
        "# \t\t\t#print(annotation_path)\r\n",
        "# \t\t\tgenerateVOC2Json(annotation_path)\r\n",
        "trainFile = \"/netscratch/pramanik/OBJECT_DETECTION/valid.txt\"\r\n",
        "trainXMLFiles = list()\r\n",
        "with open(trainFile, \"rb\") as f:\r\n",
        "\tfor line in f:\r\n",
        "\t\tfileName = line.strip()\r\n",
        "\t\tprint fileName\r\n",
        "\t\ttrainXMLFiles.append(fileName + \".xml\")\r\n",
        "\r\n",
        "rootDir = \"/netscratch/pramanik/OBJECT_DETECTION/detectron_old/lib/datasets/data/Receipts/Annotations_xml\"\r\n",
        "generateVOC2Json(rootDir, trainXMLFiles)"
      ],
      "execution_count": null,
      "outputs": []
    },
    {
      "cell_type": "markdown",
      "metadata": {
        "id": "NypFJoacrrCj"
      },
      "source": [
        "## VOC xml to YOLOv4 txt"
      ]
    },
    {
      "cell_type": "code",
      "metadata": {
        "id": "4GawcCFlrqzN"
      },
      "source": [
        "# 출처: https://bblib.net/entry/convert-voc-to-yolo-xml-to-yolo-xml-to-txt\r\n",
        "\r\n",
        "import glob\r\n",
        "import os\r\n",
        "import pickle\r\n",
        "import xml.etree.ElementTree as ET\r\n",
        "from os import listdir, getcwd\r\n",
        "from os.path import join\r\n",
        "\r\n",
        "dirs = ['annotation']\r\n",
        "classes = ['polyp']\r\n",
        "\r\n",
        "\r\n",
        "def getImagesInDir(dir_path):\r\n",
        "    image_list = []\r\n",
        "    for filename in glob.glob(dir_path + '/*.png'):\r\n",
        "        image_list.append(filename)\r\n",
        "    for filename in glob.glob(dir_path + '/*.jpg'):\r\n",
        "        image_list.append(filename)\r\n",
        "\r\n",
        "    return image_list\r\n",
        "\r\n",
        "\r\n",
        "def convert(size, box):\r\n",
        "    dw = 1./(size[0])\r\n",
        "    dh = 1./(size[1])\r\n",
        "    x = (box[0] + box[1])/2.0 - 1\r\n",
        "    y = (box[2] + box[3])/2.0 - 1\r\n",
        "    w = box[1] - box[0]\r\n",
        "    h = box[3] - box[2]\r\n",
        "    x = x*dw\r\n",
        "    w = w*dw\r\n",
        "    y = y*dh\r\n",
        "    h = h*dh\r\n",
        "    return (x,y,w,h)\r\n",
        "\r\n",
        "def convert_annotation(dir_path, output_path, image_path):\r\n",
        "    basename = os.path.basename(image_path)\r\n",
        "    basename_no_ext = os.path.splitext(basename)[0]\r\n",
        "\r\n",
        "    in_file = open(dir_path + '/' + basename_no_ext + '.xml' ,encoding='UTF8')\r\n",
        "    out_file = open(output_path + basename_no_ext + '.txt', 'w' ,encoding='UTF8')\r\n",
        "    tree = ET.parse(in_file)\r\n",
        "    root = tree.getroot()\r\n",
        "    size = root.find('size')\r\n",
        "    w = int(size.find('width').text)\r\n",
        "    h = int(size.find('height').text)\r\n",
        "\r\n",
        "    for obj in root.iter('object'):\r\n",
        "        difficult = obj.find('difficult').text\r\n",
        "        cls = obj.find('name').text\r\n",
        "        if cls not in classes or int(difficult)==1:\r\n",
        "            continue\r\n",
        "        cls_id = classes.index(cls)\r\n",
        "        xmlbox = obj.find('bndbox')\r\n",
        "        b = (float(xmlbox.find('xmin').text), float(xmlbox.find('xmax').text), float(xmlbox.find('ymin').text), float(xmlbox.find('ymax').text))\r\n",
        "        bb = convert((w,h), b)\r\n",
        "        out_file.write(str(cls_id) + \" \" + \" \".join([str(a) for a in bb]) + '\\n')\r\n"
      ],
      "execution_count": null,
      "outputs": []
    },
    {
      "cell_type": "code",
      "metadata": {
        "colab": {
          "base_uri": "https://localhost:8080/"
        },
        "id": "3UnKkL7QQUVi",
        "outputId": "1bbc78a4-dc86-4801-cd0d-9f777b7b27c4"
      },
      "source": [
        "\r\n",
        "cwd = getcwd()\r\n",
        "\r\n",
        "for dir_path in dirs:\r\n",
        "    output_path = path +'/yolo/'\r\n",
        "    if not os.path.exists(output_path):\r\n",
        "        os.makedirs(output_path)\r\n",
        "\r\n",
        "    image_paths = getImagesInDir(path)\r\n",
        "    print(path)\r\n",
        "    list_file = open(path + '.txt', 'w')\r\n",
        "\r\n",
        "    for image_path in image_paths:\r\n",
        "        list_file.write(image_path + '\\n')\r\n",
        "        convert_annotation(path, output_path, image_path)\r\n",
        "        \r\n",
        "    list_file.close()\r\n",
        "\r\n",
        "    print(\"Finished processing: \" + dir_path)\r\n",
        "\r\n"
      ],
      "execution_count": null,
      "outputs": [
        {
          "output_type": "stream",
          "text": [
            "/content/drive/MyDrive/Bbox_0002\n",
            "Finished processing: annotation\n"
          ],
          "name": "stdout"
        }
      ]
    },
    {
      "cell_type": "code",
      "metadata": {
        "colab": {
          "base_uri": "https://localhost:8080/"
        },
        "id": "duwXlljqhJZH",
        "outputId": "3f5c9b91-b9c9-4ea3-8914-d5983a4900ee"
      },
      "source": [
        "cnt_txt = []\r\n",
        "for dir_path, dir_names, file_names in os.walk(path):\r\n",
        "  for file_name in file_names:\r\n",
        "    if file_name.endswith('.txt'):\r\n",
        "      cnt_txt.append(file_name)\r\n",
        "\r\n",
        "# cnt_img : 195\r\n",
        "print(len(cnt_txt))"
      ],
      "execution_count": null,
      "outputs": [
        {
          "output_type": "stream",
          "text": [
            "195\n"
          ],
          "name": "stdout"
        }
      ]
    },
    {
      "cell_type": "markdown",
      "metadata": {
        "id": "QC9K_HtLo20i"
      },
      "source": [
        "## directory search"
      ]
    },
    {
      "cell_type": "code",
      "metadata": {
        "id": "YteAOVmXo45G"
      },
      "source": [
        "# 출처: https://deepbaksuvision.github.io/Modu_ObjectDetection/posts/02_01_PASCAL_VOC.html\r\n",
        "\r\n",
        "import os\r\n",
        "import sys\r\n",
        "\r\n",
        "dataset_path = sys.argv[1]\r\n",
        "\r\n",
        "IMAGE_FOLDER = \"JPEGImages\"\r\n",
        "ANNOTATIONS_FOLDER = \"Annotations\"\r\n",
        "\r\n",
        "ann_root, ann_dir, ann_files = next(os.walk(os.path.join(dataset_path, ANNOTATIONS_FOLDER)))\r\n",
        "\r\n",
        "print(\"ROOT : {}\\n\".format(ann_root))\r\n",
        "print(\"DIR : {}\\n\".format(ann_dir))\r\n",
        "print(\"FILES : {}\\n\".format(ann_files))\r\n",
        "\r\n",
        "# 위의 스크립트는 PASCAL VOC 데이터셋 폴더를 기준으로 작성되었습니다.\r\n",
        "# 파라미터로 PASCAL VOC Object Detection dataset 경로를 받습니다.\r\n",
        "# os.walk 함수를 이용하여 Annotations폴더의 경로, 폴더 리스트, 파일 리스트정보를 담은 iterator를 반환합니다.\r\n",
        "# next함수를 이용하여 iterator의 첫번째 값을 가지고 옵니다.\r\n",
        "# (os.walk iterator의 첫번째 값은 3개의 값을 리턴하는데, 차례대로 경로, 폴더 리스트, 파일 리스트입니다.)"
      ],
      "execution_count": null,
      "outputs": []
    },
    {
      "cell_type": "markdown",
      "metadata": {
        "id": "EmQL_iun6K3j"
      },
      "source": [
        "## xml파일에서 파일 경로,이름 추출"
      ]
    },
    {
      "cell_type": "code",
      "metadata": {
        "id": "9qoLis7OEc2w"
      },
      "source": [
        "# xml파일과 이미지파일의 파일 경로+ 파일이름 추출해서 리스트\r\n",
        "\r\n",
        "path3 = '/content/drive/MyDrive/sidewalk_bbox/Bbox_1/'\r\n",
        "xml_files = []\r\n",
        "img_files = []\r\n",
        "dontknow = []\r\n",
        "for dir_path, dir_names, file_names in os.walk(path3):\r\n",
        "  for file_name in file_names:\r\n",
        "    short_path = str(dir_path)[44:]\r\n",
        "    if file_name.endswith('.xml'):\r\n",
        "      xml_files.append(short_path+'/'+file_name)\r\n",
        "    elif file_name.endswith('.jpg'):\r\n",
        "      img_files.append(short_path+'/'+file_name)\r\n",
        "    elif file_name.endswith('.png'):\r\n",
        "      img_files.append(short_path+'/'+file_name)\r\n",
        "    else :\r\n",
        "      dontknow.append(file_name)\r\n",
        "print(xml_files)\r\n",
        "print(img_files)\r\n",
        "print(dontknow)"
      ],
      "execution_count": null,
      "outputs": []
    },
    {
      "cell_type": "code",
      "metadata": {
        "colab": {
          "base_uri": "https://localhost:8080/"
        },
        "id": "HVTDIMb8kFGa",
        "outputId": "9cde46ec-5d31-40b2-861d-f03ef8c2b5b3"
      },
      "source": [
        "# 라벨 리스트만 추출 (AI hub 홈페이지에 자세한 설명이 있어서 필요한 코드는 아님)\r\n",
        "\r\n",
        "import xml.etree.ElementTree as ET\r\n",
        "from xml.etree.ElementTree import Element, dump, ElementTree\r\n",
        "\r\n",
        "def label_tags(xmlname):\r\n",
        "  xml_data = open((os.path.join(path3,xmlname)), 'r').read()\r\n",
        "  root = ET.XML(xml_data)\r\n",
        "  labels = []\r\n",
        "  for elem in root.iter(\"label\"):\r\n",
        "    # print(elem.find('name').text)\r\n",
        "    labels.append(elem.find('name').text)\r\n",
        "  return labels\r\n",
        "\r\n",
        "label_list = []\r\n",
        "for xml in xml_files:\r\n",
        "  label_list.extend(label_tags(xml))\r\n",
        "\r\n",
        "label_list = list(set(label_list))\r\n",
        "label_list"
      ],
      "execution_count": null,
      "outputs": [
        {
          "output_type": "execute_result",
          "data": {
            "text/plain": [
              "['traffic_sign',\n",
              " 'barricade',\n",
              " 'stop',\n",
              " 'carrier',\n",
              " 'table',\n",
              " 'parking_meter',\n",
              " 'tree_trunk',\n",
              " 'truck',\n",
              " 'bus',\n",
              " 'dog',\n",
              " 'bollard',\n",
              " 'movable_signage',\n",
              " 'motorcycle',\n",
              " 'potted_plant',\n",
              " 'bench',\n",
              " 'traffic_light',\n",
              " 'cat',\n",
              " 'person',\n",
              " 'stroller',\n",
              " 'scooter',\n",
              " 'pole',\n",
              " 'kiosk',\n",
              " 'car',\n",
              " 'fire_hydrant',\n",
              " 'wheelchair',\n",
              " 'bicycle',\n",
              " 'chair']"
            ]
          },
          "metadata": {
            "tags": []
          },
          "execution_count": 23
        }
      ]
    },
    {
      "cell_type": "markdown",
      "metadata": {
        "id": "Myp90e6klfua"
      },
      "source": [
        "## HDF5 포맷"
      ]
    },
    {
      "cell_type": "code",
      "metadata": {
        "id": "pAO224Yb2yVs"
      },
      "source": [
        "# 대용량 파일 처리 - hdf5 포맷 사용 (적용방법을 모름..)\r\n",
        "# 출처: https://nuxlear.tistory.com/4\r\n",
        "\r\n",
        "import numpy as np\r\n",
        "import h5py\r\n",
        " \r\n",
        "with h5py.File(filename, 'w') as f:\r\n",
        " \r\n",
        "    f.create_dataset('image', (1000, 32, 32, 3), dtype='float32')    # 1000개의 32x32 RGB 이미지를 담는 데이터 공간을 생성한다. \r\n",
        "    f.create_dataset('label', (1000,), dtype='float32')              # 1000개의 float을 담는 데이터 공간을 생성한다. \r\n",
        "    image_set = f['image']    # 실 데이터 공간에 접근할 변수를 할당한다. \r\n",
        "    label_set = f['label']\r\n",
        "    labels = label_set[:]    # 이미지 데이터 전체를 반환하지만, 메모리에 올리지는 않는다. 값에 접근할 때 메모리에 올린다. \r\n",
        "    array = label_set[:50]   # 데이터셋을 numpy array 와 비슷한 형태로 불러올 수 있다. 역시 이 명령으로 메모리에 올라가지는 않는다. \r\n",
        "    label_set[0] = 3.0       # dataset에 값을 대입할 수 있다. \r\n",
        "    label_set[10:20] = np.arange(10.)       # 배열을 직접 대입할 수도 있다. \r\n",
        "\r\n",
        "from keras.utils.io_utils import HDF5Matrix\r\n",
        " \r\n",
        "n_epoch = 1000\r\n",
        "batch_size = 32\r\n",
        "split_pos = 800\r\n",
        " \r\n",
        "x_data = HDF5Matrix(filename, 'image')    # 위에서 생성한 HDF5 파일의 image 경로의 데이터를 가져오게 된다. \r\n",
        "x_train = HDF5Matrix(filename, 'image', end=split_pos)    # HDF5 파일의 데이터 중 일부만 가져오는 것도 가능하다. \r\n",
        "x_test = HDF5Matrix(filename, 'image', start=split_pos)\r\n",
        "y_train = HDF5Matrix(filename, 'label', end=split_pos)\r\n",
        "y_test = HDF5Matrix(filename, 'label', start=split_pos)\r\n",
        " \r\n",
        "# 이미 .compile() 이 된 모델이라고 가정하자\r\n",
        "model.fit(x_train, y_train, epochs=n_epoch, batch_size=batch_size, validation_data=(x_test, y_test))    # numpy array 를 쓰듯이 사용하면 된다. \r\n"
      ],
      "execution_count": null,
      "outputs": []
    }
  ]
}